{
 "cells": [
  {
   "cell_type": "code",
   "execution_count": 1,
   "metadata": {},
   "outputs": [],
   "source": [
    "from unityagents import UnityEnvironment\n",
    "import numpy as np\n",
    "from dqn_agent import Agent\n",
    "from collections import deque\n",
    "import matplotlib.pyplot as plt\n",
    "%matplotlib inline\n",
    "import random\n",
    "import torch"
   ]
  },
  {
   "cell_type": "markdown",
   "metadata": {},
   "source": [
    "### Train the DQN on the environment"
   ]
  },
  {
   "cell_type": "code",
   "execution_count": 2,
   "metadata": {},
   "outputs": [
    {
     "name": "stderr",
     "output_type": "stream",
     "text": [
      "INFO:unityagents:\n",
      "'Academy' started successfully!\n",
      "Unity Academy name: Academy\n",
      "        Number of Brains: 1\n",
      "        Number of External Brains : 1\n",
      "        Lesson number : 0\n",
      "        Reset Parameters :\n",
      "\t\t\n",
      "Unity brain name: BananaBrain\n",
      "        Number of Visual Observations (per agent): 0\n",
      "        Vector Observation space type: continuous\n",
      "        Vector Observation space size (per agent): 37\n",
      "        Number of stacked Vector Observation: 1\n",
      "        Vector Action space type: discrete\n",
      "        Vector Action space size (per agent): 4\n",
      "        Vector Action descriptions: , , , \n"
     ]
    },
    {
     "name": "stdout",
     "output_type": "stream",
     "text": [
      "Episode 100\tAverage Score: 1.41\n",
      "Episode 200\tAverage Score: 5.17\n",
      "Episode 300\tAverage Score: 8.98\n",
      "Episode 400\tAverage Score: 10.95\n",
      "Episode 500\tAverage Score: 12.99\n",
      "Episode 600\tAverage Score: 13.70\n",
      "Episode 700\tAverage Score: 14.83\n",
      "Episode 718\tAverage Score: 15.03\n",
      "Environment solved in 618 episodes!\tAverage Score: 15.03\n"
     ]
    },
    {
     "data": {
      "image/png": "[encoded data removed]",
      "text/plain": [
       "<Figure size 432x288 with 1 Axes>"
      ]
     },
     "metadata": {},
     "output_type": "display_data"
    }
   ],
   "source": [
    "# define hyperparameters\n",
    "\n",
    "#total number of episodes for training\n",
    "n_episodes=2000\n",
    "#epsilon start value - max\n",
    "eps_start=1.0\n",
    "\n",
    "#epsilon minimum value\n",
    "eps_end=0.01\n",
    "\n",
    "#epsilon decay factor\n",
    "eps_decay=0.995\n",
    "\n",
    "\n",
    "\n",
    "\n",
    "# load the banana environment\n",
    "env = UnityEnvironment(file_name=\"./Banana.app\")\n",
    "# get the default brain\n",
    "brain_name = env.brain_names[0]\n",
    "brain = env.brains[brain_name]\n",
    "\n",
    "# reset the environment\n",
    "env_info = env.reset(train_mode=True)[brain_name] \n",
    "\n",
    "#get initial state\n",
    "state = env_info.vector_observations[0] \n",
    "\n",
    "#create a DQN agent\n",
    "agent = Agent(state_size=len(state), action_size=brain.vector_action_space_size, seed=0)\n",
    "\n",
    "# list containing scores from each episode\n",
    "scores = []\n",
    "\n",
    "# last 100 scores\n",
    "scores_window = deque(maxlen=100)\n",
    "\n",
    "# initialize epsilon\n",
    "eps = eps_start  \n",
    "\n",
    "\n",
    "for i_episode in range(1, n_episodes+1):\n",
    "    # reset the environment at each new episode\n",
    "    env_info = env.reset(train_mode=True)[brain_name] \n",
    "    \n",
    "    # get initial state\n",
    "    state = env_info.vector_observations[0]  \n",
    "    \n",
    "    # initialize the score for this episode to 0\n",
    "    score = 0\n",
    "    \n",
    "    # iterate till done\n",
    "    while True:\n",
    "        # decide which action to take given the state\n",
    "        action = agent.act(state, eps)\n",
    "        \n",
    "        # take the action\n",
    "        env_info = env.step(action)[brain_name]\n",
    "        \n",
    "        #get the next state achieved after taking the action\n",
    "        next_state = env_info.vector_observations[0]   \n",
    "        \n",
    "        # get the reward achieved after taking the action\n",
    "        reward = env_info.rewards[0]  \n",
    "        \n",
    "        # get value if this is the end of the episode\n",
    "        done = env_info.local_done[0] \n",
    "        \n",
    "        # learn \n",
    "        agent.step(state, action, reward, next_state, done)\n",
    "        \n",
    "        state = next_state\n",
    "        score += reward\n",
    "        if done:\n",
    "            break \n",
    "            \n",
    "    # save most recent score\n",
    "    scores_window.append(score)       \n",
    "    \n",
    "    # save most recent score\n",
    "    scores.append(score) \n",
    "    \n",
    "    # decrease epsilon\n",
    "    eps = max(eps_end, eps_decay*eps) \n",
    "    \n",
    "    # print score\n",
    "    print('\\rEpisode {}\\tAverage Score: {:.2f}'.format(i_episode, np.mean(scores_window)), end=\"\")\n",
    "    if i_episode % 100 == 0:\n",
    "        print('\\rEpisode {}\\tAverage Score: {:.2f}'.format(i_episode, np.mean(scores_window)))\n",
    "    \n",
    "    # If average score is above 15 the environment is considered solved, save the model file\n",
    "    if np.mean(scores_window)>=15.0:\n",
    "        print('\\nEnvironment solved in {:d} episodes!\\tAverage Score: {:.2f}'.format(i_episode-100, np.mean(scores_window)))\n",
    "        torch.save(agent.qnetwork_local.state_dict(), 'checkpoint.pth')\n",
    "        break\n",
    "\n",
    "\n",
    "\n",
    "\n",
    "# plot the scores\n",
    "fig = plt.figure()\n",
    "ax = fig.add_subplot(111)\n",
    "plt.plot(np.arange(len(scores)), scores)\n",
    "plt.ylabel('Score')\n",
    "plt.xlabel('Episode #')\n",
    "plt.show()"
   ]
  },
  {
   "cell_type": "code",
   "execution_count": null,
   "metadata": {},
   "outputs": [],
   "source": []
  }
 ],
 "metadata": {
  "kernelspec": {
   "display_name": "Python 3",
   "language": "python",
   "name": "python3"
  },
  "language_info": {
   "codemirror_mode": {
    "name": "ipython",
    "version": 3
   },
   "file_extension": ".py",
   "mimetype": "text/x-python",
   "name": "python",
   "nbconvert_exporter": "python",
   "pygments_lexer": "ipython3",
   "version": "3.6.0"
  }
 },
 "nbformat": 4,
 "nbformat_minor": 2
}
